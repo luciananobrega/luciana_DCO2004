{
 "cells": [
  {
   "cell_type": "markdown",
   "metadata": {},
   "source": [
    "# Entregáveis hands-on 8"
   ]
  },
  {
   "cell_type": "markdown",
   "metadata": {},
   "source": [
    "## Prática 01: Ruído em comunicações analógicas"
   ]
  },
  {
   "cell_type": "markdown",
   "metadata": {
    "collapsed": true
   },
   "source": [
    "**Gere amostras de ruído AWGN e disserte sobre os seguintes gráficos:**\n",
    "    \n",
    "    Autocovariance normalizada;\n",
    "    Espectro."
   ]
  },
  {
   "cell_type": "code",
   "execution_count": 67,
   "metadata": {},
   "outputs": [
    {
     "name": "stderr",
     "output_type": "stream",
     "text": [
      "/home/labsim/anaconda3/envs/py34/lib/python3.4/site-packages/numpy/core/numeric.py:531: ComplexWarning: Casting complex values to real discards the imaginary part\n",
      "  return array(a, dtype, copy=False, order=order)\n"
     ]
    },
    {
     "data": {
      "image/png": "[encoded data removed]",
      "text/plain": [
       "<matplotlib.figure.Figure at 0x7f9fe80c2da0>"
      ]
     },
     "metadata": {},
     "output_type": "display_data"
    }
   ],
   "source": [
    "import numpy as np\n",
    "import matplotlib.pyplot as plt\n",
    "\n",
    "def xcorr(sinal):\n",
    "    N = len(sinal)\n",
    "    rxx = np.zeros([N],dtype = float)\n",
    "    for m in range(N):\n",
    "        for n in range(N-m):\n",
    "            rxx[m] = rxx[m]+x[n]*x[n+m]\n",
    "    rxx = rxx/N\n",
    "    return rxx\n",
    "\n",
    "## Geração das amostras do ruído complexo\n",
    "N = 1000                 # Tamanho de x\n",
    "sigmaNormalizado = 0.8    # Desvio padrão normalizado do ruído complexo\n",
    "media = 0                 # Média\n",
    "\n",
    "nr = np.random.normal(media,sigmaNormalizado,N)          # Amostras da parte real do ruído \n",
    "ni = np.random.normal(media,sigmaNormalizado,N)          # Amostras da parte imaginária do ruído \n",
    "x = nr + 1j*ni                                           # Ruído complexo\n",
    "\n",
    "Rxx=np.correlate(x,x,'full')/len(x)\n",
    "# Plot da autocorrelação\n",
    "plt.plot(Rxx)\n",
    "plt.grid()\n",
    "plt.show()"
   ]
  },
  {
   "cell_type": "code",
   "execution_count": 65,
   "metadata": {},
   "outputs": [],
   "source": []
  },
  {
   "cell_type": "markdown",
   "metadata": {},
   "source": [
    "## Prática 02: Ruídos em comunicações digitais"
   ]
  },
  {
   "cell_type": "code",
   "execution_count": null,
   "metadata": {
    "collapsed": true
   },
   "outputs": [],
   "source": []
  }
 ],
 "metadata": {
  "kernelspec": {
   "display_name": "Python 3",
   "language": "python",
   "name": "python3"
  },
  "language_info": {
   "codemirror_mode": {
    "name": "ipython",
    "version": 3
   },
   "file_extension": ".py",
   "mimetype": "text/x-python",
   "name": "python",
   "nbconvert_exporter": "python",
   "pygments_lexer": "ipython3",
   "version": "3.4.5"
  }
 },
 "nbformat": 4,
 "nbformat_minor": 2
}
