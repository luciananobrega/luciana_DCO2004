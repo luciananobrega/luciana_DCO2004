{
 "cells": [
  {
   "cell_type": "markdown",
   "metadata": {},
   "source": [
    "# D01: Tipos de variáveis do Matlab"
   ]
  },
  {
   "cell_type": "markdown",
   "metadata": {},
   "source": [
    "De acordo com o site da [Mathworks](https://www.mathworks.com/help/matlab/data-types_data-types.html?requestedDomain=www.mathworks.com) os tipos de dados no Matlab são os seguintes:"
   ]
  },
  {
   "cell_type": "markdown",
   "metadata": {},
   "source": [
    "## 1. Tipos numéricos\n",
    "Dados inteiros e de ponto flutuante. Pode ser dos tipos: double, single, int8, int16, int32, int64, uint8, uint16, uint32 e uint64."
   ]
  },
  {
   "cell_type": "code",
   "execution_count": 1,
   "metadata": {},
   "outputs": [
    {
     "name": "stdout",
     "output_type": "stream",
     "text": [
      "  Name      Size            Bytes  Class     Attributes\n",
      "\n",
      "  num       1x1                 8  double              \n",
      "  num2      1x1                 1  uint8               \n",
      "\n"
     ]
    }
   ],
   "source": [
    "%% Tipos numéricos\n",
    "   num = 5; % exemplo de variável double\n",
    "   num2 = uint8(num); % convertendo variável para uint8\n",
    "   \n",
    "   whos"
   ]
  },
  {
   "cell_type": "markdown",
   "metadata": {},
   "source": [
    "## 2. Caracteres e Strings\n",
    "Texto em arrays e matrizes de caracteres."
   ]
  },
  {
   "cell_type": "code",
   "execution_count": 36,
   "metadata": {},
   "outputs": [
    {
     "name": "stdout",
     "output_type": "stream",
     "text": [
      "\n",
      "str =\n",
      "\n",
      "exemplo de char\n",
      "\n",
      "\n",
      "str2 =\n",
      "\n",
      "exemplodechar\n",
      "\n",
      "  Name      Size            Bytes  Class    Attributes\n",
      "\n",
      "  str       1x15               30  char               \n",
      "  str2      1x13               26  char               \n",
      "\n"
     ]
    }
   ],
   "source": [
    "clear all\n",
    "%% Caracteres e Strings\n",
    "   str = 'exemplo de char' %variavel do tipo char\n",
    "   str2 = ['exemplo','de','char'] % array de char\n",
    "whos"
   ]
  },
  {
   "cell_type": "markdown",
   "metadata": {},
   "source": [
    "## 3. Datas e Hora\n",
    "Arrays de valores de data e hora que podem ser exibidos em diferentes formatos."
   ]
  },
  {
   "cell_type": "code",
   "execution_count": 37,
   "metadata": {},
   "outputs": [
    {
     "name": "stdout",
     "output_type": "stream",
     "text": [
      "\n",
      "time = \n",
      "\n",
      "   11-Aug-2017 11:38:07\n",
      "\n",
      "  Name      Size            Bytes  Class       Attributes\n",
      "\n",
      "  time      1x1               113  datetime              \n",
      "\n"
     ]
    }
   ],
   "source": [
    "clear all\n",
    "%% Datas e Hora\n",
    "   time = datetime\n",
    "whos"
   ]
  },
  {
   "cell_type": "markdown",
   "metadata": {},
   "source": [
    "## 4. Arrays de células\n",
    "Arrays que podem conter dados de diferentes tipos e tamanhos."
   ]
  },
  {
   "cell_type": "code",
   "execution_count": 38,
   "metadata": {},
   "outputs": [
    {
     "name": "stdout",
     "output_type": "stream",
     "text": [
      "\n",
      "cell = \n",
      "\n",
      "    'string'    \n",
      "    [1x3 double]\n",
      "    [5x5 double]\n",
      "\n",
      "  Name      Size            Bytes  Class    Attributes\n",
      "\n",
      "  cell      3x1               572  cell               \n",
      "\n"
     ]
    }
   ],
   "source": [
    "clear all\n",
    "%% Arrays de células (cell array)\n",
    "   cell = {'string'; [10, 20, 30]; magic(5)} % cell array formado uma string, um vetor e uma matriz\n",
    "whos"
   ]
  },
  {
   "cell_type": "markdown",
   "metadata": {},
   "source": [
    "## 5. Arrays categóricos\n",
    "Arrays de dados qualitativos com valores de um conjunto finito de dados discretos e não-digitais."
   ]
  },
  {
   "cell_type": "code",
   "execution_count": 39,
   "metadata": {},
   "outputs": [
    {
     "name": "stdout",
     "output_type": "stream",
     "text": [
      "\n",
      "cell = \n",
      "\n",
      "    'r'    'b'    'g'\n",
      "    'g'    'r'    'b'\n",
      "    'b'    'r'    'g'\n",
      "\n",
      "\n",
      "cat = \n",
      "\n",
      "     r      b      g \n",
      "     g      r      b \n",
      "     b      r      g \n",
      "\n",
      "\n",
      "cats = \n",
      "\n",
      "    'b'\n",
      "    'g'\n",
      "    'r'\n",
      "\n",
      "  Name      Size            Bytes  Class          Attributes\n",
      "\n",
      "  cat       3x3               466  categorical              \n",
      "  cats      3x1               342  cell                     \n",
      "  cell      3x3              1026  cell                     \n",
      "\n"
     ]
    }
   ],
   "source": [
    "clear all\n",
    "%% Arrays categóricos\n",
    "   cell = {'r' 'b' 'g'; 'g' 'r' 'b'; 'b' 'r' 'g'}\n",
    "   cat = categorical(cell)\n",
    "   cats = categories(cat)\n",
    "whos"
   ]
  },
  {
   "cell_type": "markdown",
   "metadata": {},
   "source": [
    "## 6. Tabelas\n",
    "Arrays em forma de tabela cujas colunas com nome podem ter diferentes tipos."
   ]
  },
  {
   "cell_type": "code",
   "execution_count": 44,
   "metadata": {},
   "outputs": [
    {
     "name": "stdout",
     "output_type": "stream",
     "text": [
      "\n",
      "table = \n",
      "\n",
      "        cell    \n",
      "    ____________\n",
      "\n",
      "    'string'    \n",
      "    [1x3 double]\n",
      "    [5x5 double]\n",
      "\n",
      "  Name       Size            Bytes  Class    Attributes\n",
      "\n",
      "  cell       3x1               572  cell               \n",
      "  table      3x1              2058  table              \n",
      "\n"
     ]
    }
   ],
   "source": [
    "clear all\n",
    "%% Tabelas\n",
    "   cell = {'string'; [10, 20, 30]; magic(5)}; % cell array formado uma string, um vetor e uma matriz\n",
    "   table = array2table(cell) %tabela\n",
    "whos"
   ]
  },
  {
   "cell_type": "markdown",
   "metadata": {},
   "source": [
    "## 7. Estruturas\n",
    "Arrays com campos nomeados que podem conter dados de diferentes tipos e tamanhos."
   ]
  },
  {
   "cell_type": "code",
   "execution_count": 57,
   "metadata": {},
   "outputs": [
    {
     "name": "stdout",
     "output_type": "stream",
     "text": [
      "\n",
      "s = \n",
      "\n",
      "3x1 struct array with fields:\n",
      "\n",
      "    f\n",
      "\n",
      "\n",
      "a =\n",
      "\n",
      "string\n",
      "\n",
      "\n",
      "b =\n",
      "\n",
      "    10    20    30\n",
      "\n",
      "\n",
      "c =\n",
      "\n",
      "    17    24     1     8    15\n",
      "    23     5     7    14    16\n",
      "     4     6    13    20    22\n",
      "    10    12    19    21     3\n",
      "    11    18    25     2     9\n",
      "\n",
      "  Name      Size            Bytes  Class     Attributes\n",
      "\n",
      "  a         1x6                12  char                \n",
      "  b         1x3                24  double              \n",
      "  c         5x5               200  double              \n",
      "  cell      3x1               572  cell                \n",
      "  s         3x1               636  struct              \n",
      "\n"
     ]
    }
   ],
   "source": [
    "clear all\n",
    "%% Estruturas\n",
    "   cell = {'string'; [10, 20, 30]; magic(5)};\n",
    "   s = struct('f',cell) % criar a estrutura\n",
    "   [a,b,c] = s.f % ver conteúdos de cada elemento\n",
    "   whos"
   ]
  },
  {
   "cell_type": "markdown",
   "metadata": {},
   "source": [
    "## 8. Funções Handles\n",
    "Variáveis que permitem invocar indiretamente uma função."
   ]
  },
  {
   "cell_type": "code",
   "execution_count": 67,
   "metadata": {},
   "outputs": [
    {
     "name": "stdout",
     "output_type": "stream",
     "text": [
      "\n",
      "fh = \n",
      "\n",
      "    @(x)x^3\n",
      "\n",
      "\n",
      "ans =\n",
      "\n",
      "    27\n",
      "\n",
      "  Name      Size            Bytes  Class              Attributes\n",
      "\n",
      "  ans       1x1                 8  double                       \n",
      "  fh        1x1                32  function_handle              \n",
      "  str       1x7                14  char                         \n",
      "\n"
     ]
    }
   ],
   "source": [
    "clear all\n",
    "%% Funções Handles\n",
    "    str = '@(x)x^3';\n",
    "    fh = str2func(str) % criação de uma função que eleva x ao cubo\n",
    "    fh(3)\n",
    "   whos"
   ]
  },
  {
   "cell_type": "markdown",
   "metadata": {},
   "source": [
    "## 9. Containers de mapa\n",
    "Objetos com chaves que indexam valores. As chaves não precisam ser inteiros."
   ]
  },
  {
   "cell_type": "code",
   "execution_count": 73,
   "metadata": {
    "scrolled": true
   },
   "outputs": [
    {
     "name": "stdout",
     "output_type": "stream",
     "text": [
      "\n",
      "map = \n",
      "\n",
      "  Map with properties:\n",
      "\n",
      "        Count: 5\n",
      "      KeyType: double\n",
      "    ValueType: char\n",
      "\n",
      "\n",
      "ans =\n",
      "\n",
      "quatro\n",
      "\n",
      "  Name        Size            Bytes  Class             Attributes\n",
      "\n",
      "  ans         1x6                12  char                        \n",
      "  keys        1x5               600  cell                        \n",
      "  map         5x1               112  containers.Map              \n",
      "  values      1x5               602  cell                        \n",
      "\n"
     ]
    }
   ],
   "source": [
    "clear all\n",
    "%% Containers de mapa\n",
    "   keys = {1, 2, 3, 4, 5};\n",
    "   values = {'um', 'dois', 'tres', 'quatro', 'cinco'};\n",
    "   map = containers.Map(keys, values) % criar mapa\n",
    "   map(4) % acessar valor correspondente à chave 4\n",
    "whos"
   ]
  },
  {
   "cell_type": "markdown",
   "metadata": {},
   "source": [
    "## 10. Série de Tempo\n",
    "Vetores de dados amostrados ao longo do tempo."
   ]
  },
  {
   "cell_type": "code",
   "execution_count": 76,
   "metadata": {},
   "outputs": [
    {
     "name": "stdout",
     "output_type": "stream",
     "text": [
      "  timeseries\n",
      "\n",
      "  Common Properties:\n",
      "            Name: ''\n",
      "            Time: [0x1 double]\n",
      "        TimeInfo: tsdata.timemetadata\n",
      "            Data: [0x0 double]\n",
      "        DataInfo: tsdata.datametadata\n",
      "\n",
      "  Name      Size            Bytes  Class         Attributes\n",
      "\n",
      "  ts        1x1               867  timeseries              \n",
      "\n"
     ]
    }
   ],
   "source": [
    "clear all\n",
    "%% Série de Tempo\n",
    "    ts = timeseries\n",
    "    whos"
   ]
  },
  {
   "cell_type": "code",
   "execution_count": null,
   "metadata": {
    "collapsed": true
   },
   "outputs": [],
   "source": []
  }
 ],
 "metadata": {
  "kernelspec": {
   "display_name": "Matlab",
   "language": "matlab",
   "name": "matlab"
  },
  "language_info": {
   "codemirror_mode": "octave",
   "file_extension": ".m",
   "help_links": [
    {
     "text": "MetaKernel Magics",
     "url": "https://github.com/calysto/metakernel/blob/master/metakernel/magics/README.md"
    }
   ],
   "mimetype": "text/x-matlab",
   "name": "matlab",
   "version": "0.14.3"
  }
 },
 "nbformat": 4,
 "nbformat_minor": 2
}
