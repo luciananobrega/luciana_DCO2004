{
 "cells": [
  {
   "cell_type": "markdown",
   "metadata": {},
   "source": [
    "# D02: Indicação das variáveis criadas no script handson1_3.m"
   ]
  },
  {
   "cell_type": "markdown",
   "metadata": {},
   "source": [
    "Utilizando o comando *whos* no Matlab, temos uma listagem das variáveis utilizadas no momento e algumas de suas informações, incluindo seu tipo (*class*). Dessa forma, temos para o *script* **handson1_3.m**:"
   ]
  },
  {
   "cell_type": "code",
   "execution_count": 1,
   "metadata": {},
   "outputs": [
    {
     "name": "stdout",
     "output_type": "stream",
     "text": [
      "O valor máximo de s é 1\n",
      "O valor máximo de z é 2\n",
      "  Name            Size            Bytes  Class     Attributes\n",
      "\n",
      "  chDisplays      1x23               46  char                \n",
      "  chDisplayz      1x23               46  char                \n",
      "  f               1x1                 8  double              \n",
      "  s               1x10               80  double              \n",
      "  t               1x10               80  double              \n",
      "  z               1x10               80  double              \n",
      "\n"
     ]
    }
   ],
   "source": [
    "t = 1:10;\n",
    "f = 10;\n",
    "s = cos(2*pi*f*t);\n",
    "z = s + cos(2*pi*0.5*f*t);\n",
    "chDisplays = ['O valor máximo de s é ' num2str(max(s))];\n",
    "disp(chDisplays);\n",
    "chDisplayz = ['O valor máximo de z é ' num2str(max(z))];\n",
    "disp(chDisplayz);\n",
    "\n",
    "whos"
   ]
  },
  {
   "cell_type": "markdown",
   "metadata": {},
   "source": [
    "Também pode-se observar as variáveis criadas no Worskpace do Matlab, como na figura a seguir:"
   ]
  },
  {
   "cell_type": "markdown",
   "metadata": {},
   "source": [
    "![title](images/captura.png)"
   ]
  },
  {
   "cell_type": "markdown",
   "metadata": {},
   "source": [
    "Assim:\n",
    "- as variáveis **chDisplays** e **chDisplayz** são do tipo *char*;\n",
    "- a variável **f** é do tipo *double*;\n",
    "- as variáveis **s**, **t** e **z** são vetores de *double*."
   ]
  }
 ],
 "metadata": {
  "kernelspec": {
   "display_name": "Matlab",
   "language": "matlab",
   "name": "matlab"
  },
  "language_info": {
   "codemirror_mode": "octave",
   "file_extension": ".m",
   "help_links": [
    {
     "text": "MetaKernel Magics",
     "url": "https://github.com/calysto/metakernel/blob/master/metakernel/magics/README.md"
    }
   ],
   "mimetype": "text/x-matlab",
   "name": "matlab",
   "version": "0.14.3"
  }
 },
 "nbformat": 4,
 "nbformat_minor": 2
}
