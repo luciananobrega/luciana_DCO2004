{
 "cells": [
  {
   "cell_type": "markdown",
   "metadata": {},
   "source": [
    "# D01: Tipos de variáveis do Matlab"
   ]
  },
  {
   "cell_type": "markdown",
   "metadata": {},
   "source": [
    "De acordo com o site da [Mathworks](https://www.mathworks.com/help/matlab/data-types_data-types.html?requestedDomain=www.mathworks.com) os tipos de dados no Matlab são os seguintes:\n",
    "\n",
    "* **Tipos numéricos:** Dados inteiros e de ponto flutuante. Pode ser dos tipos: double, single, int8, int16, int32, int64, uint8, uint16, uint32 e uint64.\n",
    "\n",
    "* **Caracteres e Strings:** Texto em arrays e matrizes de caracteres.\n",
    "\n",
    "* **Datas e Hora:** Arrays de valores de data e hora que podem ser exibidos em diferentes formatos.\n",
    "\n",
    "* **Arrays de células:** Arrays que podem conter dados de diferentes tipos e tamanhos.\n",
    "\n",
    "* **Arrays categóricos:** Arrays de dados qualitativos com valores de um conjunto finito de dados discretos e não-digitais.\n",
    "\n",
    "* **Tabelas:** Arrays em forma de tabela cujas colunas com nome podem ter diferentes tipos.\n",
    "\n",
    "* **Horários:** Dados marcados com o tempo em forma de tabela.\n",
    "\n",
    "* **Estruturas:** Arrays com campos nomeados que podem conter dados de diferentes tipos e tamanhos.\n",
    "\n",
    "* **Funções Handles:** Variáveis que permitem invocar indiretamente uma função.\n",
    "\n",
    "* **Containers de mapa:** Objetos com chaves que indexam valores, onde as chaves não precisam ser inteiros.\n",
    "\n",
    "* **Série de Tempo:** Vetores de dados amostrados ao longo do tempo."
   ]
  },
  {
   "cell_type": "markdown",
   "metadata": {
    "collapsed": true
   },
   "source": [
    "O *script* a seguir exemplifica cada tipo.\n",
    "\n",
    "Utilizando o comando whos no Matlab, temos uma listagem das variáveis utilizadas no momento e algumas de suas informações, incluindo seu tipo (class)."
   ]
  },
  {
   "cell_type": "code",
   "execution_count": 5,
   "metadata": {},
   "outputs": [
    {
     "name": "stdout",
     "output_type": "stream",
     "text": [
      "  timeseries\n",
      "\n",
      "  Common Properties:\n",
      "            Name: ''\n",
      "            Time: [0x1 double]\n",
      "        TimeInfo: tsdata.timemetadata\n",
      "            Data: [0x0 double]\n",
      "        DataInfo: tsdata.datametadata\n",
      "\n",
      "  Name       Size            Bytes  Class              Attributes\n",
      "\n",
      "  cat        3x3               466  categorical                  \n",
      "  cell       1x5               602  cell                         \n",
      "  cell2      1x5               600  cell                         \n",
      "  fh         1x1                32  function_handle              \n",
      "  map        5x1               112  containers.Map               \n",
      "  num        1x1                 8  double                       \n",
      "  num2       1x1                 1  uint8                        \n",
      "  s          3x1               636  struct                       \n",
      "  str        1x15               30  char                         \n",
      "  str2       1x13               26  char                         \n",
      "  table      3x1              2060  table                        \n",
      "  time       1x1               113  datetime                     \n",
      "  ts         1x1               867  timeseries                   \n",
      "\n"
     ]
    }
   ],
   "source": [
    "clear all\n",
    "\n",
    "%% Tipos numéricos\n",
    "   num = 5; % exemplo de variável double\n",
    "   num2 = uint8(num); % convertendo variável para uint8\n",
    "\n",
    "%% Caracteres e Strings\n",
    "   str = 'exemplo de char'; %variavel do tipo char\n",
    "   str2 = ['exemplo','de','char']; % array de char\n",
    "\n",
    "%% Datas e Hora\n",
    "   time = datetime;\n",
    "\n",
    "%% Arrays de células (cell array)\n",
    "   cell = {'r' 'b' 'g'; 'g' 'r' 'b'; 'b' 'r' 'g'};\n",
    "   % cell arrays também podem ser compostos de tipos de variáveis diferentes \n",
    "   cell2 = {'string'; [10, 20, 30]; magic(5)};\n",
    "\n",
    "%% Arrays categóricos\n",
    "   cat = categorical(cell);\n",
    "\n",
    "%% Tabelas\n",
    "   table = array2table(cell2); %tabela\n",
    "\n",
    "%% Estruturas\n",
    "   s = struct('f',cell2);\n",
    "   \n",
    "%% Funções Handles\n",
    "   fh = str2func(str2); %conversão de string para handle function\n",
    "   \n",
    "%% Containers de mapa\n",
    "   cell = {'um', 'dois', 'tres', 'quatro', 'cinco'};\n",
    "   cell2 = {1, 2, 3, 4, 5};\n",
    "   map = containers.Map(cell, cell2);\n",
    "   \n",
    "%% Série de Tempo\n",
    "    ts = timeseries\n",
    "\n",
    "   \n",
    "whos"
   ]
  },
  {
   "cell_type": "code",
   "execution_count": null,
   "metadata": {
    "collapsed": true
   },
   "outputs": [],
   "source": []
  }
 ],
 "metadata": {
  "kernelspec": {
   "display_name": "Matlab",
   "language": "matlab",
   "name": "matlab"
  },
  "language_info": {
   "codemirror_mode": "octave",
   "file_extension": ".m",
   "help_links": [
    {
     "text": "MetaKernel Magics",
     "url": "https://github.com/calysto/metakernel/blob/master/metakernel/magics/README.md"
    }
   ],
   "mimetype": "text/x-matlab",
   "name": "matlab",
   "version": "0.14.3"
  }
 },
 "nbformat": 4,
 "nbformat_minor": 2
}
